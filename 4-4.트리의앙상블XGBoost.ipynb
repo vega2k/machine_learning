{
 "cells": [
  {
   "cell_type": "code",
   "execution_count": 4,
   "metadata": {
    "colab": {
     "base_uri": "https://localhost:8080/"
    },
    "executionInfo": {
     "elapsed": 793,
     "status": "ok",
     "timestamp": 1616307712815,
     "user": {
      "displayName": "백명숙",
      "photoUrl": "",
      "userId": "00606454411956894851"
     },
     "user_tz": -540
    },
    "id": "iJgwQvH3a5O_",
    "outputId": "ef099adf-8fc8-4c99-b4a5-d7ee2e822d7b"
   },
   "outputs": [
    {
     "name": "stdout",
     "output_type": "stream",
     "text": [
      "Drive already mounted at /content/drive; to attempt to forcibly remount, call drive.mount(\"/content/drive\", force_remount=True).\n"
     ]
    }
   ],
   "source": [
    "from google.colab import drive\n",
    "drive.mount('/content/drive')"
   ]
  },
  {
   "cell_type": "code",
   "execution_count": 6,
   "metadata": {
    "colab": {
     "base_uri": "https://localhost:8080/",
     "height": 35
    },
    "executionInfo": {
     "elapsed": 799,
     "status": "ok",
     "timestamp": 1616308037912,
     "user": {
      "displayName": "백명숙",
      "photoUrl": "",
      "userId": "00606454411956894851"
     },
     "user_tz": -540
    },
    "id": "oHNAyZXjcJn3",
    "outputId": "ac79209f-d79f-40f6-ab70-e1a9f95f46cd"
   },
   "outputs": [
    {
     "data": {
      "application/vnd.google.colaboratory.intrinsic+json": {
       "type": "string"
      },
      "text/plain": [
       "'/content/drive/My Drive/Colab Notebooks/data'"
      ]
     },
     "execution_count": 6,
     "metadata": {
      "tags": []
     },
     "output_type": "execute_result"
    }
   ],
   "source": [
    "data_path = '/content/drive/My Drive/Colab Notebooks/data'\n",
    "data_path"
   ]
  },
  {
   "cell_type": "code",
   "execution_count": 8,
   "metadata": {
    "colab": {
     "base_uri": "https://localhost:8080/"
    },
    "executionInfo": {
     "elapsed": 1722,
     "status": "ok",
     "timestamp": 1616308263671,
     "user": {
      "displayName": "백명숙",
      "photoUrl": "",
      "userId": "00606454411956894851"
     },
     "user_tz": -540
    },
    "id": "RVQTfBs0d2XN",
    "outputId": "b3cc0e49-e65c-4508-cf93-5335d50292e0"
   },
   "outputs": [
    {
     "data": {
      "text/plain": [
       "(229, 8)"
      ]
     },
     "execution_count": 8,
     "metadata": {
      "tags": []
     },
     "output_type": "execute_result"
    }
   ],
   "source": [
    "import pandas as pd\n",
    "import os\n",
    "\n",
    "data = pd.read_csv(os.path.join(data_path,'wine.csv'))\n",
    "data.shape"
   ]
  },
  {
   "cell_type": "code",
   "execution_count": null,
   "metadata": {
    "id": "XmeFNm1DetQN"
   },
   "outputs": [],
   "source": [
    "import numpy as np\n",
    "import pandas as pd\n",
    "from sklearn.model_selection import train_test_split\n",
    "\n",
    "wine = pd.read_csv(os.path.join(data_path,'wine.csv'))\n",
    "\n",
    "data = wine[['alcohol', 'sugar', 'pH']].to_numpy()\n",
    "target = wine['class'].to_numpy()\n",
    "\n",
    "X_train, X_test, y_train, y_test = \\\n",
    "train_test_split(data, target, test_size=0.2, random_state=42)\n"
   ]
  },
  {
   "cell_type": "markdown",
   "metadata": {},
   "source": [
    "#### XGBoost\n",
    "* eXtra Gradient Boost \n",
    "* [XGBoost](https://xgboost.readthedocs.io/en/latest)\n",
    "* 트리기반 앙상블 학습에서 각광받고 있는 알고리즘 중 하나이다\n",
    "* Kaggle Contest에서 상위를 차지한 데이터 과학자들이 XGBoost를 이용하면서 널리 알려짐\n",
    "* XGBoost는 GBM에 기반하고 있지만, GBM의 단점인 느린 수행시간과 과대적합 규제 문제를 해결한 모델이다\n",
    "* tree_method 매개변수를 'hist'로 지정하면 히스토그램 기반 그레디언트 부스팅을 사용할 수 있다"
   ]
  },
  {
   "cell_type": "code",
   "execution_count": null,
   "metadata": {},
   "outputs": [],
   "source": [
    "!pip show xgboost"
   ]
  },
  {
   "cell_type": "code",
   "execution_count": null,
   "metadata": {},
   "outputs": [],
   "source": [
    "from sklearn.model_selection import cross_validate\n",
    "from xgboost import XGBClassifier\n",
    "\n",
    "xgb = XGBClassifier(tree_method='hist', random_state=42)\n",
    "scores = cross_validate(xgb, X_train, y_train, return_train_score=True, n_jobs=-1)\n",
    "\n",
    "print(np.mean(scores['train_score']), np.mean(scores['test_score']))"
   ]
  },
  {
   "cell_type": "markdown",
   "metadata": {},
   "source": [
    "#### LightGBM\n",
    "* LightGBM은 마이크로 소프트에서 만든 또 다른 히스토그램 기반 그레디언트 부스팅 라이브러리이다\n",
    "* [LightGBM](https://lightgbm.readthedocs.io/en/latest)\n",
    "* LightGBM의 가장 큰 특징은 XGBoost 보다 학습에 걸리는 시간도 빠르고, 메모리 사용량도 작다"
   ]
  },
  {
   "cell_type": "code",
   "execution_count": null,
   "metadata": {},
   "outputs": [],
   "source": [
    "!pip show lightgbm"
   ]
  },
  {
   "cell_type": "code",
   "execution_count": null,
   "metadata": {},
   "outputs": [],
   "source": [
    "from lightgbm import LGBMClassifier\n",
    "\n",
    "lgb = LGBMClassifier(random_state=42)\n",
    "scores = cross_validate(lgb, X_train, y_train, return_train_score=True, n_jobs=-1)\n",
    "\n",
    "print(np.mean(scores['train_score']), np.mean(scores['test_score']))"
   ]
  }
 ],
 "metadata": {
  "colab": {
   "authorship_tag": "ABX9TyP/mesgT0DfIF01smMN7955",
   "name": "datatest.ipynb",
   "provenance": []
  },
  "kernelspec": {
   "display_name": "Python 3",
   "language": "python",
   "name": "python3"
  },
  "language_info": {
   "codemirror_mode": {
    "name": "ipython",
    "version": 3
   },
   "file_extension": ".py",
   "mimetype": "text/x-python",
   "name": "python",
   "nbconvert_exporter": "python",
   "pygments_lexer": "ipython3",
   "version": "3.8.5"
  }
 },
 "nbformat": 4,
 "nbformat_minor": 1
}
