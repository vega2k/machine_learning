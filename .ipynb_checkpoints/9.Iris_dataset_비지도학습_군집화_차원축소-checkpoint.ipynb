{
 "cells": [
  {
   "cell_type": "markdown",
   "metadata": {
    "id": "YRS1_fGErgaY"
   },
   "source": [
    "#### 비지도학습\n",
    "##### 1. 군집화\n",
    "* 비지도학습은 데이터의 구조를 파악해서 그룹핑을 하거나 차원을 축소하거나 할때 사용하는 학습방식\n",
    "* 1. 클러스터링 : 비슷한 유형의 데이터들을 그룹핑 해주는 학습방법\n",
    "* 2. 클러스터링을 지원하는 알고리즘은 K-Means 가 있다. \n",
    "\n",
    "##### 2. 차원축소\n",
    "* 비지도 학습을 통해서 데이터를 변환하는 방식\n",
    "* 데이터를 변환(차원축소)하는 이유는?\n",
    " - 데이터를 시각화하거나, 데이터를 압축, 지도학습에 사용하기 위해서 정보가 더 잘 나타나도록 하기 위해서이다. \n",
    "* 차원축소를 지원하는 알고리즘은 PCA(Principal Component Analysis)가 있다. "
   ]
  },
  {
   "cell_type": "code",
   "execution_count": 2,
   "metadata": {
    "id": "kELb0jvUrgaq"
   },
   "outputs": [],
   "source": [
    "from sklearn.datasets import load_iris\n",
    "from sklearn.cluster import KMeans\n",
    "\n",
    "import pandas as pd\n",
    "import numpy as np\n",
    "\n",
    "#%matplotlib inline"
   ]
  },
  {
   "cell_type": "code",
   "execution_count": 3,
   "metadata": {
    "id": "WU_ppDTnrgar",
    "outputId": "4a61f6f9-2ee4-4d3f-c273-4ad73ea181b2"
   },
   "outputs": [
    {
     "name": "stdout",
     "output_type": "stream",
     "text": [
      "dict_keys(['data', 'target', 'frame', 'target_names', 'DESCR', 'feature_names', 'filename'])\n"
     ]
    }
   ],
   "source": [
    "iris = load_iris()\n",
    "print(iris.keys())"
   ]
  },
  {
   "cell_type": "code",
   "execution_count": 4,
   "metadata": {
    "id": "Q_Phv_5Ergas",
    "outputId": "5dc54645-b5c3-40c4-cabb-ffe6cb084d75"
   },
   "outputs": [
    {
     "name": "stdout",
     "output_type": "stream",
     "text": [
      "['setosa' 'versicolor' 'virginica']\n"
     ]
    },
    {
     "data": {
      "text/plain": [
       "array([0, 0, 0, 0, 0, 0, 0, 0, 0, 0, 0, 0, 0, 0, 0, 0, 0, 0, 0, 0, 0, 0,\n",
       "       0, 0, 0, 0, 0, 0, 0, 0, 0, 0, 0, 0, 0, 0, 0, 0, 0, 0, 0, 0, 0, 0,\n",
       "       0, 0, 0, 0, 0, 0, 1, 1, 1, 1, 1, 1, 1, 1, 1, 1, 1, 1, 1, 1, 1, 1,\n",
       "       1, 1, 1, 1, 1, 1, 1, 1, 1, 1, 1, 1, 1, 1, 1, 1, 1, 1, 1, 1, 1, 1,\n",
       "       1, 1, 1, 1, 1, 1, 1, 1, 1, 1, 1, 1, 2, 2, 2, 2, 2, 2, 2, 2, 2, 2,\n",
       "       2, 2, 2, 2, 2, 2, 2, 2, 2, 2, 2, 2, 2, 2, 2, 2, 2, 2, 2, 2, 2, 2,\n",
       "       2, 2, 2, 2, 2, 2, 2, 2, 2, 2, 2, 2, 2, 2, 2, 2, 2, 2])"
      ]
     },
     "execution_count": 4,
     "metadata": {},
     "output_type": "execute_result"
    }
   ],
   "source": [
    "print(iris.target_names)\n",
    "iris.target"
   ]
  },
  {
   "cell_type": "code",
   "execution_count": 5,
   "metadata": {
    "id": "IQ28LdiMrgas",
    "outputId": "20043548-33fe-4549-e5de-f003e256bc5e"
   },
   "outputs": [
    {
     "name": "stdout",
     "output_type": "stream",
     "text": [
      "(150, 4)\n",
      "['sepal length (cm)', 'sepal width (cm)', 'petal length (cm)', 'petal width (cm)']\n"
     ]
    },
    {
     "data": {
      "text/plain": [
       "array([[5.1, 3.5, 1.4, 0.2],\n",
       "       [4.9, 3. , 1.4, 0.2],\n",
       "       [4.7, 3.2, 1.3, 0.2],\n",
       "       [4.6, 3.1, 1.5, 0.2],\n",
       "       [5. , 3.6, 1.4, 0.2],\n",
       "       [5.4, 3.9, 1.7, 0.4],\n",
       "       [4.6, 3.4, 1.4, 0.3],\n",
       "       [5. , 3.4, 1.5, 0.2],\n",
       "       [4.4, 2.9, 1.4, 0.2],\n",
       "       [4.9, 3.1, 1.5, 0.1],\n",
       "       [5.4, 3.7, 1.5, 0.2],\n",
       "       [4.8, 3.4, 1.6, 0.2],\n",
       "       [4.8, 3. , 1.4, 0.1],\n",
       "       [4.3, 3. , 1.1, 0.1],\n",
       "       [5.8, 4. , 1.2, 0.2],\n",
       "       [5.7, 4.4, 1.5, 0.4],\n",
       "       [5.4, 3.9, 1.3, 0.4],\n",
       "       [5.1, 3.5, 1.4, 0.3],\n",
       "       [5.7, 3.8, 1.7, 0.3],\n",
       "       [5.1, 3.8, 1.5, 0.3],\n",
       "       [5.4, 3.4, 1.7, 0.2],\n",
       "       [5.1, 3.7, 1.5, 0.4],\n",
       "       [4.6, 3.6, 1. , 0.2],\n",
       "       [5.1, 3.3, 1.7, 0.5],\n",
       "       [4.8, 3.4, 1.9, 0.2],\n",
       "       [5. , 3. , 1.6, 0.2],\n",
       "       [5. , 3.4, 1.6, 0.4],\n",
       "       [5.2, 3.5, 1.5, 0.2],\n",
       "       [5.2, 3.4, 1.4, 0.2],\n",
       "       [4.7, 3.2, 1.6, 0.2],\n",
       "       [4.8, 3.1, 1.6, 0.2],\n",
       "       [5.4, 3.4, 1.5, 0.4],\n",
       "       [5.2, 4.1, 1.5, 0.1],\n",
       "       [5.5, 4.2, 1.4, 0.2],\n",
       "       [4.9, 3.1, 1.5, 0.2],\n",
       "       [5. , 3.2, 1.2, 0.2],\n",
       "       [5.5, 3.5, 1.3, 0.2],\n",
       "       [4.9, 3.6, 1.4, 0.1],\n",
       "       [4.4, 3. , 1.3, 0.2],\n",
       "       [5.1, 3.4, 1.5, 0.2],\n",
       "       [5. , 3.5, 1.3, 0.3],\n",
       "       [4.5, 2.3, 1.3, 0.3],\n",
       "       [4.4, 3.2, 1.3, 0.2],\n",
       "       [5. , 3.5, 1.6, 0.6],\n",
       "       [5.1, 3.8, 1.9, 0.4],\n",
       "       [4.8, 3. , 1.4, 0.3],\n",
       "       [5.1, 3.8, 1.6, 0.2],\n",
       "       [4.6, 3.2, 1.4, 0.2],\n",
       "       [5.3, 3.7, 1.5, 0.2],\n",
       "       [5. , 3.3, 1.4, 0.2],\n",
       "       [7. , 3.2, 4.7, 1.4],\n",
       "       [6.4, 3.2, 4.5, 1.5],\n",
       "       [6.9, 3.1, 4.9, 1.5],\n",
       "       [5.5, 2.3, 4. , 1.3],\n",
       "       [6.5, 2.8, 4.6, 1.5],\n",
       "       [5.7, 2.8, 4.5, 1.3],\n",
       "       [6.3, 3.3, 4.7, 1.6],\n",
       "       [4.9, 2.4, 3.3, 1. ],\n",
       "       [6.6, 2.9, 4.6, 1.3],\n",
       "       [5.2, 2.7, 3.9, 1.4],\n",
       "       [5. , 2. , 3.5, 1. ],\n",
       "       [5.9, 3. , 4.2, 1.5],\n",
       "       [6. , 2.2, 4. , 1. ],\n",
       "       [6.1, 2.9, 4.7, 1.4],\n",
       "       [5.6, 2.9, 3.6, 1.3],\n",
       "       [6.7, 3.1, 4.4, 1.4],\n",
       "       [5.6, 3. , 4.5, 1.5],\n",
       "       [5.8, 2.7, 4.1, 1. ],\n",
       "       [6.2, 2.2, 4.5, 1.5],\n",
       "       [5.6, 2.5, 3.9, 1.1],\n",
       "       [5.9, 3.2, 4.8, 1.8],\n",
       "       [6.1, 2.8, 4. , 1.3],\n",
       "       [6.3, 2.5, 4.9, 1.5],\n",
       "       [6.1, 2.8, 4.7, 1.2],\n",
       "       [6.4, 2.9, 4.3, 1.3],\n",
       "       [6.6, 3. , 4.4, 1.4],\n",
       "       [6.8, 2.8, 4.8, 1.4],\n",
       "       [6.7, 3. , 5. , 1.7],\n",
       "       [6. , 2.9, 4.5, 1.5],\n",
       "       [5.7, 2.6, 3.5, 1. ],\n",
       "       [5.5, 2.4, 3.8, 1.1],\n",
       "       [5.5, 2.4, 3.7, 1. ],\n",
       "       [5.8, 2.7, 3.9, 1.2],\n",
       "       [6. , 2.7, 5.1, 1.6],\n",
       "       [5.4, 3. , 4.5, 1.5],\n",
       "       [6. , 3.4, 4.5, 1.6],\n",
       "       [6.7, 3.1, 4.7, 1.5],\n",
       "       [6.3, 2.3, 4.4, 1.3],\n",
       "       [5.6, 3. , 4.1, 1.3],\n",
       "       [5.5, 2.5, 4. , 1.3],\n",
       "       [5.5, 2.6, 4.4, 1.2],\n",
       "       [6.1, 3. , 4.6, 1.4],\n",
       "       [5.8, 2.6, 4. , 1.2],\n",
       "       [5. , 2.3, 3.3, 1. ],\n",
       "       [5.6, 2.7, 4.2, 1.3],\n",
       "       [5.7, 3. , 4.2, 1.2],\n",
       "       [5.7, 2.9, 4.2, 1.3],\n",
       "       [6.2, 2.9, 4.3, 1.3],\n",
       "       [5.1, 2.5, 3. , 1.1],\n",
       "       [5.7, 2.8, 4.1, 1.3],\n",
       "       [6.3, 3.3, 6. , 2.5],\n",
       "       [5.8, 2.7, 5.1, 1.9],\n",
       "       [7.1, 3. , 5.9, 2.1],\n",
       "       [6.3, 2.9, 5.6, 1.8],\n",
       "       [6.5, 3. , 5.8, 2.2],\n",
       "       [7.6, 3. , 6.6, 2.1],\n",
       "       [4.9, 2.5, 4.5, 1.7],\n",
       "       [7.3, 2.9, 6.3, 1.8],\n",
       "       [6.7, 2.5, 5.8, 1.8],\n",
       "       [7.2, 3.6, 6.1, 2.5],\n",
       "       [6.5, 3.2, 5.1, 2. ],\n",
       "       [6.4, 2.7, 5.3, 1.9],\n",
       "       [6.8, 3. , 5.5, 2.1],\n",
       "       [5.7, 2.5, 5. , 2. ],\n",
       "       [5.8, 2.8, 5.1, 2.4],\n",
       "       [6.4, 3.2, 5.3, 2.3],\n",
       "       [6.5, 3. , 5.5, 1.8],\n",
       "       [7.7, 3.8, 6.7, 2.2],\n",
       "       [7.7, 2.6, 6.9, 2.3],\n",
       "       [6. , 2.2, 5. , 1.5],\n",
       "       [6.9, 3.2, 5.7, 2.3],\n",
       "       [5.6, 2.8, 4.9, 2. ],\n",
       "       [7.7, 2.8, 6.7, 2. ],\n",
       "       [6.3, 2.7, 4.9, 1.8],\n",
       "       [6.7, 3.3, 5.7, 2.1],\n",
       "       [7.2, 3.2, 6. , 1.8],\n",
       "       [6.2, 2.8, 4.8, 1.8],\n",
       "       [6.1, 3. , 4.9, 1.8],\n",
       "       [6.4, 2.8, 5.6, 2.1],\n",
       "       [7.2, 3. , 5.8, 1.6],\n",
       "       [7.4, 2.8, 6.1, 1.9],\n",
       "       [7.9, 3.8, 6.4, 2. ],\n",
       "       [6.4, 2.8, 5.6, 2.2],\n",
       "       [6.3, 2.8, 5.1, 1.5],\n",
       "       [6.1, 2.6, 5.6, 1.4],\n",
       "       [7.7, 3. , 6.1, 2.3],\n",
       "       [6.3, 3.4, 5.6, 2.4],\n",
       "       [6.4, 3.1, 5.5, 1.8],\n",
       "       [6. , 3. , 4.8, 1.8],\n",
       "       [6.9, 3.1, 5.4, 2.1],\n",
       "       [6.7, 3.1, 5.6, 2.4],\n",
       "       [6.9, 3.1, 5.1, 2.3],\n",
       "       [5.8, 2.7, 5.1, 1.9],\n",
       "       [6.8, 3.2, 5.9, 2.3],\n",
       "       [6.7, 3.3, 5.7, 2.5],\n",
       "       [6.7, 3. , 5.2, 2.3],\n",
       "       [6.3, 2.5, 5. , 1.9],\n",
       "       [6.5, 3. , 5.2, 2. ],\n",
       "       [6.2, 3.4, 5.4, 2.3],\n",
       "       [5.9, 3. , 5.1, 1.8]])"
      ]
     },
     "execution_count": 5,
     "metadata": {},
     "output_type": "execute_result"
    }
   ],
   "source": [
    "print(iris.data.shape)\n",
    "print(iris.feature_names)\n",
    "iris.data"
   ]
  },
  {
   "cell_type": "code",
   "execution_count": 6,
   "metadata": {
    "id": "CrrjAP8crgat",
    "outputId": "9850081f-ce5a-48e7-b8b0-b18a9a8a25ae"
   },
   "outputs": [
    {
     "data": {
      "text/html": [
       "<div>\n",
       "<style scoped>\n",
       "    .dataframe tbody tr th:only-of-type {\n",
       "        vertical-align: middle;\n",
       "    }\n",
       "\n",
       "    .dataframe tbody tr th {\n",
       "        vertical-align: top;\n",
       "    }\n",
       "\n",
       "    .dataframe thead th {\n",
       "        text-align: right;\n",
       "    }\n",
       "</style>\n",
       "<table border=\"1\" class=\"dataframe\">\n",
       "  <thead>\n",
       "    <tr style=\"text-align: right;\">\n",
       "      <th></th>\n",
       "      <th>sepal_length</th>\n",
       "      <th>sepal_width</th>\n",
       "      <th>petal_length</th>\n",
       "      <th>petal_width</th>\n",
       "    </tr>\n",
       "  </thead>\n",
       "  <tbody>\n",
       "    <tr>\n",
       "      <th>0</th>\n",
       "      <td>5.1</td>\n",
       "      <td>3.5</td>\n",
       "      <td>1.4</td>\n",
       "      <td>0.2</td>\n",
       "    </tr>\n",
       "    <tr>\n",
       "      <th>1</th>\n",
       "      <td>4.9</td>\n",
       "      <td>3.0</td>\n",
       "      <td>1.4</td>\n",
       "      <td>0.2</td>\n",
       "    </tr>\n",
       "    <tr>\n",
       "      <th>2</th>\n",
       "      <td>4.7</td>\n",
       "      <td>3.2</td>\n",
       "      <td>1.3</td>\n",
       "      <td>0.2</td>\n",
       "    </tr>\n",
       "    <tr>\n",
       "      <th>3</th>\n",
       "      <td>4.6</td>\n",
       "      <td>3.1</td>\n",
       "      <td>1.5</td>\n",
       "      <td>0.2</td>\n",
       "    </tr>\n",
       "    <tr>\n",
       "      <th>4</th>\n",
       "      <td>5.0</td>\n",
       "      <td>3.6</td>\n",
       "      <td>1.4</td>\n",
       "      <td>0.2</td>\n",
       "    </tr>\n",
       "  </tbody>\n",
       "</table>\n",
       "</div>"
      ],
      "text/plain": [
       "   sepal_length  sepal_width  petal_length  petal_width\n",
       "0           5.1          3.5           1.4          0.2\n",
       "1           4.9          3.0           1.4          0.2\n",
       "2           4.7          3.2           1.3          0.2\n",
       "3           4.6          3.1           1.5          0.2\n",
       "4           5.0          3.6           1.4          0.2"
      ]
     },
     "execution_count": 6,
     "metadata": {},
     "output_type": "execute_result"
    }
   ],
   "source": [
    "iris_df = pd.DataFrame(data=iris.data, \\\n",
    "                       columns=['sepal_length', 'sepal_width', 'petal_length', 'petal_width'])\n",
    "iris_df.head()"
   ]
  },
  {
   "cell_type": "code",
   "execution_count": 7,
   "metadata": {
    "id": "-PZw8Nftrgau",
    "outputId": "08c359df-6897-43b6-da02-b75979065a27"
   },
   "outputs": [
    {
     "data": {
      "text/plain": [
       "KMeans(max_iter=500, n_clusters=3, random_state=0)"
      ]
     },
     "execution_count": 7,
     "metadata": {},
     "output_type": "execute_result"
    }
   ],
   "source": [
    "#Model 생성 - KMeans 알고리즘 사용\n",
    "model = KMeans(n_clusters=3, init='k-means++', max_iter=500, random_state=0)\n",
    "model.fit(iris_df)\n",
    "model"
   ]
  },
  {
   "cell_type": "code",
   "execution_count": 8,
   "metadata": {
    "id": "_aC1Fofrrgau",
    "outputId": "66ee24cd-3145-4caa-d19d-9a6aa22d413f"
   },
   "outputs": [
    {
     "name": "stdout",
     "output_type": "stream",
     "text": [
      "[1 1 1 1 1 1 1 1 1 1 1 1 1 1 1 1 1 1 1 1 1 1 1 1 1 1 1 1 1 1 1 1 1 1 1 1 1\n",
      " 1 1 1 1 1 1 1 1 1 1 1 1 1 2 2 0 2 2 2 2 2 2 2 2 2 2 2 2 2 2 2 2 2 2 2 2 2\n",
      " 2 2 2 0 2 2 2 2 2 2 2 2 2 2 2 2 2 2 2 2 2 2 2 2 2 2 0 2 0 0 0 0 2 0 0 0 0\n",
      " 0 0 2 2 0 0 0 0 2 0 2 0 2 0 0 2 2 0 0 0 0 0 2 0 0 0 0 2 0 0 0 2 0 0 0 2 0\n",
      " 0 2]\n",
      "78.851441426146\n"
     ]
    }
   ],
   "source": [
    "#군집화한 결과 확인\n",
    "print(model.labels_)\n",
    "print(model.inertia_)"
   ]
  },
  {
   "cell_type": "code",
   "execution_count": 9,
   "metadata": {
    "id": "r59KwFJMrgav",
    "outputId": "7351dadf-b188-4728-fa9e-7209ca6f80b5"
   },
   "outputs": [
    {
     "data": {
      "text/html": [
       "<div>\n",
       "<style scoped>\n",
       "    .dataframe tbody tr th:only-of-type {\n",
       "        vertical-align: middle;\n",
       "    }\n",
       "\n",
       "    .dataframe tbody tr th {\n",
       "        vertical-align: top;\n",
       "    }\n",
       "\n",
       "    .dataframe thead th {\n",
       "        text-align: right;\n",
       "    }\n",
       "</style>\n",
       "<table border=\"1\" class=\"dataframe\">\n",
       "  <thead>\n",
       "    <tr style=\"text-align: right;\">\n",
       "      <th></th>\n",
       "      <th>sepal_length</th>\n",
       "      <th>sepal_width</th>\n",
       "      <th>petal_length</th>\n",
       "      <th>petal_width</th>\n",
       "      <th>cluster</th>\n",
       "    </tr>\n",
       "  </thead>\n",
       "  <tbody>\n",
       "    <tr>\n",
       "      <th>0</th>\n",
       "      <td>5.1</td>\n",
       "      <td>3.5</td>\n",
       "      <td>1.4</td>\n",
       "      <td>0.2</td>\n",
       "      <td>1</td>\n",
       "    </tr>\n",
       "    <tr>\n",
       "      <th>1</th>\n",
       "      <td>4.9</td>\n",
       "      <td>3.0</td>\n",
       "      <td>1.4</td>\n",
       "      <td>0.2</td>\n",
       "      <td>1</td>\n",
       "    </tr>\n",
       "    <tr>\n",
       "      <th>2</th>\n",
       "      <td>4.7</td>\n",
       "      <td>3.2</td>\n",
       "      <td>1.3</td>\n",
       "      <td>0.2</td>\n",
       "      <td>1</td>\n",
       "    </tr>\n",
       "    <tr>\n",
       "      <th>3</th>\n",
       "      <td>4.6</td>\n",
       "      <td>3.1</td>\n",
       "      <td>1.5</td>\n",
       "      <td>0.2</td>\n",
       "      <td>1</td>\n",
       "    </tr>\n",
       "    <tr>\n",
       "      <th>4</th>\n",
       "      <td>5.0</td>\n",
       "      <td>3.6</td>\n",
       "      <td>1.4</td>\n",
       "      <td>0.2</td>\n",
       "      <td>1</td>\n",
       "    </tr>\n",
       "  </tbody>\n",
       "</table>\n",
       "</div>"
      ],
      "text/plain": [
       "   sepal_length  sepal_width  petal_length  petal_width  cluster\n",
       "0           5.1          3.5           1.4          0.2        1\n",
       "1           4.9          3.0           1.4          0.2        1\n",
       "2           4.7          3.2           1.3          0.2        1\n",
       "3           4.6          3.1           1.5          0.2        1\n",
       "4           5.0          3.6           1.4          0.2        1"
      ]
     },
     "execution_count": 9,
     "metadata": {},
     "output_type": "execute_result"
    }
   ],
   "source": [
    "#군집화한 결과(labels_) 를 cluster라는 컬럼으로 추가\n",
    "iris_df['cluster'] = model.labels_\n",
    "iris_df.head()"
   ]
  },
  {
   "cell_type": "code",
   "execution_count": 10,
   "metadata": {
    "id": "5k3JfVVFrgav",
    "outputId": "5bda1533-58a4-492a-b91d-eeb6ce6daa95"
   },
   "outputs": [
    {
     "data": {
      "text/html": [
       "<div>\n",
       "<style scoped>\n",
       "    .dataframe tbody tr th:only-of-type {\n",
       "        vertical-align: middle;\n",
       "    }\n",
       "\n",
       "    .dataframe tbody tr th {\n",
       "        vertical-align: top;\n",
       "    }\n",
       "\n",
       "    .dataframe thead th {\n",
       "        text-align: right;\n",
       "    }\n",
       "</style>\n",
       "<table border=\"1\" class=\"dataframe\">\n",
       "  <thead>\n",
       "    <tr style=\"text-align: right;\">\n",
       "      <th></th>\n",
       "      <th>sepal_length</th>\n",
       "      <th>sepal_width</th>\n",
       "      <th>petal_length</th>\n",
       "      <th>petal_width</th>\n",
       "      <th>cluster</th>\n",
       "      <th>target</th>\n",
       "    </tr>\n",
       "  </thead>\n",
       "  <tbody>\n",
       "    <tr>\n",
       "      <th>0</th>\n",
       "      <td>5.1</td>\n",
       "      <td>3.5</td>\n",
       "      <td>1.4</td>\n",
       "      <td>0.2</td>\n",
       "      <td>1</td>\n",
       "      <td>0</td>\n",
       "    </tr>\n",
       "    <tr>\n",
       "      <th>1</th>\n",
       "      <td>4.9</td>\n",
       "      <td>3.0</td>\n",
       "      <td>1.4</td>\n",
       "      <td>0.2</td>\n",
       "      <td>1</td>\n",
       "      <td>0</td>\n",
       "    </tr>\n",
       "    <tr>\n",
       "      <th>2</th>\n",
       "      <td>4.7</td>\n",
       "      <td>3.2</td>\n",
       "      <td>1.3</td>\n",
       "      <td>0.2</td>\n",
       "      <td>1</td>\n",
       "      <td>0</td>\n",
       "    </tr>\n",
       "    <tr>\n",
       "      <th>3</th>\n",
       "      <td>4.6</td>\n",
       "      <td>3.1</td>\n",
       "      <td>1.5</td>\n",
       "      <td>0.2</td>\n",
       "      <td>1</td>\n",
       "      <td>0</td>\n",
       "    </tr>\n",
       "    <tr>\n",
       "      <th>4</th>\n",
       "      <td>5.0</td>\n",
       "      <td>3.6</td>\n",
       "      <td>1.4</td>\n",
       "      <td>0.2</td>\n",
       "      <td>1</td>\n",
       "      <td>0</td>\n",
       "    </tr>\n",
       "  </tbody>\n",
       "</table>\n",
       "</div>"
      ],
      "text/plain": [
       "   sepal_length  sepal_width  petal_length  petal_width  cluster  target\n",
       "0           5.1          3.5           1.4          0.2        1       0\n",
       "1           4.9          3.0           1.4          0.2        1       0\n",
       "2           4.7          3.2           1.3          0.2        1       0\n",
       "3           4.6          3.1           1.5          0.2        1       0\n",
       "4           5.0          3.6           1.4          0.2        1       0"
      ]
     },
     "execution_count": 10,
     "metadata": {},
     "output_type": "execute_result"
    }
   ],
   "source": [
    "#target 값으로 target 컬럼을 추가\n",
    "iris_df['target'] = iris.target\n",
    "iris_df.head()"
   ]
  },
  {
   "cell_type": "markdown",
   "metadata": {
    "id": "bI3J070trgaw"
   },
   "source": [
    "### Intertia value를 이용한 적정 군집수 판단\n",
    "* Intertia value는 중심점(centroid)에서 데이터간의 거리를 합산한 값이며, 군집의 응집도를 나타내는 값이다.  이 값을 작을수록 응집도가 높게 군집화가 잘 되었다는 의미\n",
    "* 1  ~ 6개의 클러스로 클러스터링을 했을 각 클러스터 갯수별로 intertia value를 출력해보기\n",
    "* itertia 값이 클러스터값이 3~5 사이에서 급격하게 하강해서 변화의 폭이 크지 않다는 것을 알 수 있으므로, iris 데이터는 3 ~ 5개의 클러스터로 분류하는 것이 적당하다고 판단하는 것임"
   ]
  },
  {
   "cell_type": "code",
   "execution_count": 11,
   "metadata": {
    "id": "4HNEuBCfrgaw",
    "outputId": "43e4af21-dca5-4d56-892f-40570cff0519"
   },
   "outputs": [
    {
     "name": "stdout",
     "output_type": "stream",
     "text": [
      "[877.5305999999998, 273.6905407011291, 91.58488794567059, 70.4040760725343, 57.86925814536342, 45.45697069597071, 38.058666333666345, 34.039143856143866, 30.904924242424247]\n"
     ]
    },
    {
     "data": {
      "image/png": "[encoded data removed]",
      "text/plain": [
       "<Figure size 432x288 with 1 Axes>"
      ]
     },
     "metadata": {
      "needs_background": "light"
     },
     "output_type": "display_data"
    }
   ],
   "source": [
    "import matplotlib.pyplot as plt\n",
    "ks = range(1,10)\n",
    "intertias_values = []\n",
    "for k in ks:\n",
    "    model = KMeans(n_clusters=k)\n",
    "    model.fit(iris_df)\n",
    "    intertias_values.append(model.inertia_)\n",
    "\n",
    "print(intertias_values)\n",
    "\n",
    "plt.plot(ks, intertias_values, '-o')\n",
    "plt.xlabel('number of clusters, K')\n",
    "plt.ylabel('intertia')\n",
    "plt.xticks(ks)\n",
    "plt.show()"
   ]
  },
  {
   "cell_type": "markdown",
   "metadata": {
    "id": "UYwBIwmNrgax"
   },
   "source": [
    "#### 크로스 테이블 체크\n",
    "* Cross Tabulation은 테이블 형태로 교차분석한 결과\n",
    "* pandas의 .crosstab 함수를 사용한다."
   ]
  },
  {
   "cell_type": "code",
   "execution_count": 12,
   "metadata": {
    "id": "YbvnZKSprgay",
    "outputId": "a99ce433-198c-481a-c484-b6465fcea9f7"
   },
   "outputs": [
    {
     "data": {
      "text/html": [
       "<div>\n",
       "<style scoped>\n",
       "    .dataframe tbody tr th:only-of-type {\n",
       "        vertical-align: middle;\n",
       "    }\n",
       "\n",
       "    .dataframe tbody tr th {\n",
       "        vertical-align: top;\n",
       "    }\n",
       "\n",
       "    .dataframe thead th {\n",
       "        text-align: right;\n",
       "    }\n",
       "</style>\n",
       "<table border=\"1\" class=\"dataframe\">\n",
       "  <thead>\n",
       "    <tr style=\"text-align: right;\">\n",
       "      <th>cluster</th>\n",
       "      <th>0</th>\n",
       "      <th>1</th>\n",
       "      <th>2</th>\n",
       "    </tr>\n",
       "    <tr>\n",
       "      <th>target</th>\n",
       "      <th></th>\n",
       "      <th></th>\n",
       "      <th></th>\n",
       "    </tr>\n",
       "  </thead>\n",
       "  <tbody>\n",
       "    <tr>\n",
       "      <th>0</th>\n",
       "      <td>0</td>\n",
       "      <td>50</td>\n",
       "      <td>0</td>\n",
       "    </tr>\n",
       "    <tr>\n",
       "      <th>1</th>\n",
       "      <td>2</td>\n",
       "      <td>0</td>\n",
       "      <td>48</td>\n",
       "    </tr>\n",
       "    <tr>\n",
       "      <th>2</th>\n",
       "      <td>36</td>\n",
       "      <td>0</td>\n",
       "      <td>14</td>\n",
       "    </tr>\n",
       "  </tbody>\n",
       "</table>\n",
       "</div>"
      ],
      "text/plain": [
       "cluster   0   1   2\n",
       "target             \n",
       "0         0  50   0\n",
       "1         2   0  48\n",
       "2        36   0  14"
      ]
     },
     "execution_count": 12,
     "metadata": {},
     "output_type": "execute_result"
    }
   ],
   "source": [
    "cross_tab = pd.crosstab(iris_df['target'], iris_df['cluster'])\n",
    "cross_tab"
   ]
  },
  {
   "cell_type": "markdown",
   "metadata": {
    "id": "Bdsju5v8rgaz"
   },
   "source": [
    "#### 차원축소 \n",
    "* 차원축소 한 데이터를 시각화하기"
   ]
  },
  {
   "cell_type": "code",
   "execution_count": 13,
   "metadata": {
    "id": "WRXvfI4wrgaz",
    "outputId": "1ff83c72-f927-4f75-f869-8192a0a8b430"
   },
   "outputs": [
    {
     "name": "stdout",
     "output_type": "stream",
     "text": [
      "<class 'numpy.ndarray'>\n"
     ]
    },
    {
     "data": {
      "text/plain": [
       "array([[-2.68412563,  0.31939725],\n",
       "       [-2.71414169, -0.17700123],\n",
       "       [-2.88899057, -0.14494943],\n",
       "       [-2.74534286, -0.31829898],\n",
       "       [-2.72871654,  0.32675451],\n",
       "       [-2.28085963,  0.74133045],\n",
       "       [-2.82053775, -0.08946138],\n",
       "       [-2.62614497,  0.16338496],\n",
       "       [-2.88638273, -0.57831175],\n",
       "       [-2.6727558 , -0.11377425],\n",
       "       [-2.50694709,  0.6450689 ],\n",
       "       [-2.61275523,  0.01472994],\n",
       "       [-2.78610927, -0.235112  ],\n",
       "       [-3.22380374, -0.51139459],\n",
       "       [-2.64475039,  1.17876464],\n",
       "       [-2.38603903,  1.33806233],\n",
       "       [-2.62352788,  0.81067951],\n",
       "       [-2.64829671,  0.31184914],\n",
       "       [-2.19982032,  0.87283904],\n",
       "       [-2.5879864 ,  0.51356031],\n",
       "       [-2.31025622,  0.39134594],\n",
       "       [-2.54370523,  0.43299606],\n",
       "       [-3.21593942,  0.13346807],\n",
       "       [-2.30273318,  0.09870885],\n",
       "       [-2.35575405, -0.03728186],\n",
       "       [-2.50666891, -0.14601688],\n",
       "       [-2.46882007,  0.13095149],\n",
       "       [-2.56231991,  0.36771886],\n",
       "       [-2.63953472,  0.31203998],\n",
       "       [-2.63198939, -0.19696122],\n",
       "       [-2.58739848, -0.20431849],\n",
       "       [-2.4099325 ,  0.41092426],\n",
       "       [-2.64886233,  0.81336382],\n",
       "       [-2.59873675,  1.09314576],\n",
       "       [-2.63692688, -0.12132235],\n",
       "       [-2.86624165,  0.06936447],\n",
       "       [-2.62523805,  0.59937002],\n",
       "       [-2.80068412,  0.26864374],\n",
       "       [-2.98050204, -0.48795834],\n",
       "       [-2.59000631,  0.22904384],\n",
       "       [-2.77010243,  0.26352753],\n",
       "       [-2.84936871, -0.94096057],\n",
       "       [-2.99740655, -0.34192606],\n",
       "       [-2.40561449,  0.18887143],\n",
       "       [-2.20948924,  0.43666314],\n",
       "       [-2.71445143, -0.2502082 ],\n",
       "       [-2.53814826,  0.50377114],\n",
       "       [-2.83946217, -0.22794557],\n",
       "       [-2.54308575,  0.57941002],\n",
       "       [-2.70335978,  0.10770608],\n",
       "       [ 1.28482569,  0.68516047],\n",
       "       [ 0.93248853,  0.31833364],\n",
       "       [ 1.46430232,  0.50426282],\n",
       "       [ 0.18331772, -0.82795901],\n",
       "       [ 1.08810326,  0.07459068],\n",
       "       [ 0.64166908, -0.41824687],\n",
       "       [ 1.09506066,  0.28346827],\n",
       "       [-0.74912267, -1.00489096],\n",
       "       [ 1.04413183,  0.2283619 ],\n",
       "       [-0.0087454 , -0.72308191],\n",
       "       [-0.50784088, -1.26597119],\n",
       "       [ 0.51169856, -0.10398124],\n",
       "       [ 0.26497651, -0.55003646],\n",
       "       [ 0.98493451, -0.12481785],\n",
       "       [-0.17392537, -0.25485421],\n",
       "       [ 0.92786078,  0.46717949],\n",
       "       [ 0.66028376, -0.35296967],\n",
       "       [ 0.23610499, -0.33361077],\n",
       "       [ 0.94473373, -0.54314555],\n",
       "       [ 0.04522698, -0.58383438],\n",
       "       [ 1.11628318, -0.08461685],\n",
       "       [ 0.35788842, -0.06892503],\n",
       "       [ 1.29818388, -0.32778731],\n",
       "       [ 0.92172892, -0.18273779],\n",
       "       [ 0.71485333,  0.14905594],\n",
       "       [ 0.90017437,  0.32850447],\n",
       "       [ 1.33202444,  0.24444088],\n",
       "       [ 1.55780216,  0.26749545],\n",
       "       [ 0.81329065, -0.1633503 ],\n",
       "       [-0.30558378, -0.36826219],\n",
       "       [-0.06812649, -0.70517213],\n",
       "       [-0.18962247, -0.68028676],\n",
       "       [ 0.13642871, -0.31403244],\n",
       "       [ 1.38002644, -0.42095429],\n",
       "       [ 0.58800644, -0.48428742],\n",
       "       [ 0.80685831,  0.19418231],\n",
       "       [ 1.22069088,  0.40761959],\n",
       "       [ 0.81509524, -0.37203706],\n",
       "       [ 0.24595768, -0.2685244 ],\n",
       "       [ 0.16641322, -0.68192672],\n",
       "       [ 0.46480029, -0.67071154],\n",
       "       [ 0.8908152 , -0.03446444],\n",
       "       [ 0.23054802, -0.40438585],\n",
       "       [-0.70453176, -1.01224823],\n",
       "       [ 0.35698149, -0.50491009],\n",
       "       [ 0.33193448, -0.21265468],\n",
       "       [ 0.37621565, -0.29321893],\n",
       "       [ 0.64257601,  0.01773819],\n",
       "       [-0.90646986, -0.75609337],\n",
       "       [ 0.29900084, -0.34889781],\n",
       "       [ 2.53119273, -0.00984911],\n",
       "       [ 1.41523588, -0.57491635],\n",
       "       [ 2.61667602,  0.34390315],\n",
       "       [ 1.97153105, -0.1797279 ],\n",
       "       [ 2.35000592, -0.04026095],\n",
       "       [ 3.39703874,  0.55083667],\n",
       "       [ 0.52123224, -1.19275873],\n",
       "       [ 2.93258707,  0.3555    ],\n",
       "       [ 2.32122882, -0.2438315 ],\n",
       "       [ 2.91675097,  0.78279195],\n",
       "       [ 1.66177415,  0.24222841],\n",
       "       [ 1.80340195, -0.21563762],\n",
       "       [ 2.1655918 ,  0.21627559],\n",
       "       [ 1.34616358, -0.77681835],\n",
       "       [ 1.58592822, -0.53964071],\n",
       "       [ 1.90445637,  0.11925069],\n",
       "       [ 1.94968906,  0.04194326],\n",
       "       [ 3.48705536,  1.17573933],\n",
       "       [ 3.79564542,  0.25732297],\n",
       "       [ 1.30079171, -0.76114964],\n",
       "       [ 2.42781791,  0.37819601],\n",
       "       [ 1.19900111, -0.60609153],\n",
       "       [ 3.49992004,  0.4606741 ],\n",
       "       [ 1.38876613, -0.20439933],\n",
       "       [ 2.2754305 ,  0.33499061],\n",
       "       [ 2.61409047,  0.56090136],\n",
       "       [ 1.25850816, -0.17970479],\n",
       "       [ 1.29113206, -0.11666865],\n",
       "       [ 2.12360872, -0.20972948],\n",
       "       [ 2.38800302,  0.4646398 ],\n",
       "       [ 2.84167278,  0.37526917],\n",
       "       [ 3.23067366,  1.37416509],\n",
       "       [ 2.15943764, -0.21727758],\n",
       "       [ 1.44416124, -0.14341341],\n",
       "       [ 1.78129481, -0.49990168],\n",
       "       [ 3.07649993,  0.68808568],\n",
       "       [ 2.14424331,  0.1400642 ],\n",
       "       [ 1.90509815,  0.04930053],\n",
       "       [ 1.16932634, -0.16499026],\n",
       "       [ 2.10761114,  0.37228787],\n",
       "       [ 2.31415471,  0.18365128],\n",
       "       [ 1.9222678 ,  0.40920347],\n",
       "       [ 1.41523588, -0.57491635],\n",
       "       [ 2.56301338,  0.2778626 ],\n",
       "       [ 2.41874618,  0.3047982 ],\n",
       "       [ 1.94410979,  0.1875323 ],\n",
       "       [ 1.52716661, -0.37531698],\n",
       "       [ 1.76434572,  0.07885885],\n",
       "       [ 1.90094161,  0.11662796],\n",
       "       [ 1.39018886, -0.28266094]])"
      ]
     },
     "execution_count": 13,
     "metadata": {},
     "output_type": "execute_result"
    }
   ],
   "source": [
    "from sklearn.decomposition import PCA\n",
    "\n",
    "model = PCA(n_components=2, random_state=0)\n",
    "pca_transformed = model.fit_transform(iris.data)\n",
    "print(type(pca_transformed))\n",
    "pca_transformed"
   ]
  },
  {
   "cell_type": "code",
   "execution_count": 14,
   "metadata": {
    "id": "yFlaS8XTrga1",
    "outputId": "8cf0372a-9638-4800-cdfc-3623346d8408"
   },
   "outputs": [
    {
     "data": {
      "text/html": [
       "<div>\n",
       "<style scoped>\n",
       "    .dataframe tbody tr th:only-of-type {\n",
       "        vertical-align: middle;\n",
       "    }\n",
       "\n",
       "    .dataframe tbody tr th {\n",
       "        vertical-align: top;\n",
       "    }\n",
       "\n",
       "    .dataframe thead th {\n",
       "        text-align: right;\n",
       "    }\n",
       "</style>\n",
       "<table border=\"1\" class=\"dataframe\">\n",
       "  <thead>\n",
       "    <tr style=\"text-align: right;\">\n",
       "      <th></th>\n",
       "      <th>sepal_length</th>\n",
       "      <th>sepal_width</th>\n",
       "      <th>petal_length</th>\n",
       "      <th>petal_width</th>\n",
       "      <th>cluster</th>\n",
       "      <th>target</th>\n",
       "      <th>pca_x</th>\n",
       "      <th>pca_y</th>\n",
       "    </tr>\n",
       "  </thead>\n",
       "  <tbody>\n",
       "    <tr>\n",
       "      <th>0</th>\n",
       "      <td>5.1</td>\n",
       "      <td>3.5</td>\n",
       "      <td>1.4</td>\n",
       "      <td>0.2</td>\n",
       "      <td>1</td>\n",
       "      <td>0</td>\n",
       "      <td>-2.684126</td>\n",
       "      <td>0.319397</td>\n",
       "    </tr>\n",
       "    <tr>\n",
       "      <th>1</th>\n",
       "      <td>4.9</td>\n",
       "      <td>3.0</td>\n",
       "      <td>1.4</td>\n",
       "      <td>0.2</td>\n",
       "      <td>1</td>\n",
       "      <td>0</td>\n",
       "      <td>-2.714142</td>\n",
       "      <td>-0.177001</td>\n",
       "    </tr>\n",
       "    <tr>\n",
       "      <th>2</th>\n",
       "      <td>4.7</td>\n",
       "      <td>3.2</td>\n",
       "      <td>1.3</td>\n",
       "      <td>0.2</td>\n",
       "      <td>1</td>\n",
       "      <td>0</td>\n",
       "      <td>-2.888991</td>\n",
       "      <td>-0.144949</td>\n",
       "    </tr>\n",
       "    <tr>\n",
       "      <th>3</th>\n",
       "      <td>4.6</td>\n",
       "      <td>3.1</td>\n",
       "      <td>1.5</td>\n",
       "      <td>0.2</td>\n",
       "      <td>1</td>\n",
       "      <td>0</td>\n",
       "      <td>-2.745343</td>\n",
       "      <td>-0.318299</td>\n",
       "    </tr>\n",
       "    <tr>\n",
       "      <th>4</th>\n",
       "      <td>5.0</td>\n",
       "      <td>3.6</td>\n",
       "      <td>1.4</td>\n",
       "      <td>0.2</td>\n",
       "      <td>1</td>\n",
       "      <td>0</td>\n",
       "      <td>-2.728717</td>\n",
       "      <td>0.326755</td>\n",
       "    </tr>\n",
       "  </tbody>\n",
       "</table>\n",
       "</div>"
      ],
      "text/plain": [
       "   sepal_length  sepal_width  petal_length  petal_width  cluster  target  \\\n",
       "0           5.1          3.5           1.4          0.2        1       0   \n",
       "1           4.9          3.0           1.4          0.2        1       0   \n",
       "2           4.7          3.2           1.3          0.2        1       0   \n",
       "3           4.6          3.1           1.5          0.2        1       0   \n",
       "4           5.0          3.6           1.4          0.2        1       0   \n",
       "\n",
       "      pca_x     pca_y  \n",
       "0 -2.684126  0.319397  \n",
       "1 -2.714142 -0.177001  \n",
       "2 -2.888991 -0.144949  \n",
       "3 -2.745343 -0.318299  \n",
       "4 -2.728717  0.326755  "
      ]
     },
     "execution_count": 14,
     "metadata": {},
     "output_type": "execute_result"
    }
   ],
   "source": [
    "#2차원으로 변환된 데이터를 pca_x, pca_y 라는 컬럼명으로 추가하기\n",
    "iris_df['pca_x'] = pca_transformed[:,0]\n",
    "iris_df['pca_y'] = pca_transformed[:,1]\n",
    "iris_df.head()"
   ]
  },
  {
   "cell_type": "code",
   "execution_count": 15,
   "metadata": {
    "id": "QiXD0BDirga2",
    "outputId": "cb42457c-ee42-481e-b143-889117acf927"
   },
   "outputs": [
    {
     "data": {
      "text/plain": [
       "2    62\n",
       "1    50\n",
       "0    38\n",
       "Name: cluster, dtype: int64"
      ]
     },
     "execution_count": 15,
     "metadata": {},
     "output_type": "execute_result"
    }
   ],
   "source": [
    "iris_df['cluster'].value_counts()"
   ]
  },
  {
   "cell_type": "code",
   "execution_count": 16,
   "metadata": {
    "id": "nmIp5KX4rga2",
    "outputId": "63d4c387-b8fc-4cbf-995d-1f78b53d756c"
   },
   "outputs": [
    {
     "name": "stdout",
     "output_type": "stream",
     "text": [
      "Int64Index([ 52,  77, 100, 102, 103, 104, 105, 107, 108, 109, 110, 111, 112,\n",
      "            115, 116, 117, 118, 120, 122, 124, 125, 128, 129, 130, 131, 132,\n",
      "            134, 135, 136, 137, 139, 140, 141, 143, 144, 145, 147, 148],\n",
      "           dtype='int64')\n",
      "Int64Index([ 0,  1,  2,  3,  4,  5,  6,  7,  8,  9, 10, 11, 12, 13, 14, 15, 16,\n",
      "            17, 18, 19, 20, 21, 22, 23, 24, 25, 26, 27, 28, 29, 30, 31, 32, 33,\n",
      "            34, 35, 36, 37, 38, 39, 40, 41, 42, 43, 44, 45, 46, 47, 48, 49],\n",
      "           dtype='int64')\n",
      "Int64Index([ 50,  51,  53,  54,  55,  56,  57,  58,  59,  60,  61,  62,  63,\n",
      "             64,  65,  66,  67,  68,  69,  70,  71,  72,  73,  74,  75,  76,\n",
      "             78,  79,  80,  81,  82,  83,  84,  85,  86,  87,  88,  89,  90,\n",
      "             91,  92,  93,  94,  95,  96,  97,  98,  99, 101, 106, 113, 114,\n",
      "            119, 121, 123, 126, 127, 133, 138, 142, 146, 149],\n",
      "           dtype='int64')\n"
     ]
    }
   ],
   "source": [
    "#cluster 별로 0,1,2 경우마다 index 추출\n",
    "marker0_index = iris_df[iris_df['cluster'] == 0].index\n",
    "print(marker0_index)\n",
    "marker1_index = iris_df[iris_df['cluster'] == 1].index\n",
    "print(marker1_index)\n",
    "marker2_index = iris_df[iris_df['cluster'] == 2].index\n",
    "print(marker2_index)"
   ]
  },
  {
   "cell_type": "code",
   "execution_count": 17,
   "metadata": {
    "id": "ySS8LPsMrga3",
    "outputId": "336f4d56-f3ec-4fb4-b36a-2ac3e027b9d0"
   },
   "outputs": [
    {
     "data": {
      "text/plain": [
       "Text(0.5, 1.0, '3 Clusters Visualization by 2 PCA Component')"
      ]
     },
     "execution_count": 17,
     "metadata": {},
     "output_type": "execute_result"
    },
    {
     "data": {
      "image/png": "[encoded data removed]",
      "text/plain": [
       "<Figure size 432x288 with 1 Axes>"
      ]
     },
     "metadata": {
      "needs_background": "light"
     },
     "output_type": "display_data"
    }
   ],
   "source": [
    "#cluster 값이 0,1,2에 해당하는 index와 pca_x 값을 X축에 설정\n",
    "#cluster 값이 0,1,2에 해당하는 index와 pca_y 값을 Y축에 설정\n",
    "#marker o, s, ^ 를 사용\n",
    "#iris_df.loc[marker0_index,'pca_x']\n",
    "plt.scatter(x=iris_df.loc[marker0_index,'pca_x'], \\\n",
    "            y=iris_df.loc[marker0_index,'pca_y'], marker='o')\n",
    "plt.scatter(x=iris_df.loc[marker1_index,'pca_x'], \\\n",
    "            y=iris_df.loc[marker1_index,'pca_y'], marker='s')\n",
    "plt.scatter(x=iris_df.loc[marker2_index,'pca_x'], \\\n",
    "            y=iris_df.loc[marker2_index,'pca_y'], marker='^')\n",
    "plt.xlabel('PCA1')\n",
    "plt.ylabel('PCA2')\n",
    "plt.title('3 Clusters Visualization by 2 PCA Component')"
   ]
  },
  {
   "cell_type": "markdown",
   "metadata": {
    "id": "b6cRRKdFrga4"
   },
   "source": [
    "### Wheat Seed Dataset  활용한 군집화\n"
   ]
  },
  {
   "cell_type": "code",
   "execution_count": 18,
   "metadata": {
    "id": "yv31qX31rga4",
    "outputId": "17340b2e-8bcf-4edd-d4be-350e3213b0ca"
   },
   "outputs": [
    {
     "name": "stdout",
     "output_type": "stream",
     "text": [
      "(209, 8)\n"
     ]
    },
    {
     "data": {
      "text/html": [
       "<div>\n",
       "<style scoped>\n",
       "    .dataframe tbody tr th:only-of-type {\n",
       "        vertical-align: middle;\n",
       "    }\n",
       "\n",
       "    .dataframe tbody tr th {\n",
       "        vertical-align: top;\n",
       "    }\n",
       "\n",
       "    .dataframe thead th {\n",
       "        text-align: right;\n",
       "    }\n",
       "</style>\n",
       "<table border=\"1\" class=\"dataframe\">\n",
       "  <thead>\n",
       "    <tr style=\"text-align: right;\">\n",
       "      <th></th>\n",
       "      <th>Area</th>\n",
       "      <th>Perimeter</th>\n",
       "      <th>Compactness</th>\n",
       "      <th>Kernel.Length</th>\n",
       "      <th>Kernel.Width</th>\n",
       "      <th>Asymmetry.Coeff</th>\n",
       "      <th>Kernel.Groove</th>\n",
       "      <th>Type</th>\n",
       "    </tr>\n",
       "  </thead>\n",
       "  <tbody>\n",
       "    <tr>\n",
       "      <th>0</th>\n",
       "      <td>14.88</td>\n",
       "      <td>14.57</td>\n",
       "      <td>0.8811</td>\n",
       "      <td>5.554</td>\n",
       "      <td>3.333</td>\n",
       "      <td>1.018</td>\n",
       "      <td>4.956</td>\n",
       "      <td>1</td>\n",
       "    </tr>\n",
       "    <tr>\n",
       "      <th>1</th>\n",
       "      <td>14.29</td>\n",
       "      <td>14.09</td>\n",
       "      <td>0.9050</td>\n",
       "      <td>5.291</td>\n",
       "      <td>3.337</td>\n",
       "      <td>2.699</td>\n",
       "      <td>4.825</td>\n",
       "      <td>1</td>\n",
       "    </tr>\n",
       "    <tr>\n",
       "      <th>2</th>\n",
       "      <td>13.84</td>\n",
       "      <td>13.94</td>\n",
       "      <td>0.8955</td>\n",
       "      <td>5.324</td>\n",
       "      <td>3.379</td>\n",
       "      <td>2.259</td>\n",
       "      <td>4.805</td>\n",
       "      <td>1</td>\n",
       "    </tr>\n",
       "    <tr>\n",
       "      <th>3</th>\n",
       "      <td>16.14</td>\n",
       "      <td>14.99</td>\n",
       "      <td>0.9034</td>\n",
       "      <td>5.658</td>\n",
       "      <td>3.562</td>\n",
       "      <td>1.355</td>\n",
       "      <td>5.175</td>\n",
       "      <td>1</td>\n",
       "    </tr>\n",
       "    <tr>\n",
       "      <th>4</th>\n",
       "      <td>14.38</td>\n",
       "      <td>14.21</td>\n",
       "      <td>0.8951</td>\n",
       "      <td>5.386</td>\n",
       "      <td>3.312</td>\n",
       "      <td>2.462</td>\n",
       "      <td>4.956</td>\n",
       "      <td>1</td>\n",
       "    </tr>\n",
       "  </tbody>\n",
       "</table>\n",
       "</div>"
      ],
      "text/plain": [
       "    Area  Perimeter  Compactness  Kernel.Length  Kernel.Width  \\\n",
       "0  14.88      14.57       0.8811          5.554         3.333   \n",
       "1  14.29      14.09       0.9050          5.291         3.337   \n",
       "2  13.84      13.94       0.8955          5.324         3.379   \n",
       "3  16.14      14.99       0.9034          5.658         3.562   \n",
       "4  14.38      14.21       0.8951          5.386         3.312   \n",
       "\n",
       "   Asymmetry.Coeff  Kernel.Groove  Type  \n",
       "0            1.018          4.956     1  \n",
       "1            2.699          4.825     1  \n",
       "2            2.259          4.805     1  \n",
       "3            1.355          5.175     1  \n",
       "4            2.462          4.956     1  "
      ]
     },
     "execution_count": 18,
     "metadata": {},
     "output_type": "execute_result"
    }
   ],
   "source": [
    "col_names = ['Area','Perimeter','Compactness','Kernel.Length',\\\n",
    "            'Kernel.Width','Asymmetry.Coeff','Kernel.Groove','Type']\n",
    "wheat_df = pd.read_csv('data/seeds_dataset.txt', delimiter='\\t')\n",
    "wheat_df.columns = col_names\n",
    "print(wheat_df.shape)\n",
    "wheat_df.head()"
   ]
  },
  {
   "cell_type": "code",
   "execution_count": 19,
   "metadata": {
    "id": "SvRpamdgrga5",
    "outputId": "b2da93e3-36cc-4be3-fa66-1b3608f3ee51"
   },
   "outputs": [
    {
     "data": {
      "text/plain": [
       "3    70\n",
       "2    70\n",
       "1    69\n",
       "Name: Type, dtype: int64"
      ]
     },
     "execution_count": 19,
     "metadata": {},
     "output_type": "execute_result"
    }
   ],
   "source": [
    "wheat_df['Type'].value_counts()"
   ]
  },
  {
   "cell_type": "code",
   "execution_count": 20,
   "metadata": {
    "id": "t1PPHsdLrga7",
    "outputId": "cc553b91-b7e3-4dc4-e0a5-3883978e409a"
   },
   "outputs": [
    {
     "name": "stdout",
     "output_type": "stream",
     "text": [
      "Index(['Area', 'Perimeter', 'Compactness', 'Kernel.Length', 'Kernel.Width',\n",
      "       'Asymmetry.Coeff', 'Kernel.Groove'],\n",
      "      dtype='object')\n"
     ]
    },
    {
     "data": {
      "text/html": [
       "<div>\n",
       "<style scoped>\n",
       "    .dataframe tbody tr th:only-of-type {\n",
       "        vertical-align: middle;\n",
       "    }\n",
       "\n",
       "    .dataframe tbody tr th {\n",
       "        vertical-align: top;\n",
       "    }\n",
       "\n",
       "    .dataframe thead th {\n",
       "        text-align: right;\n",
       "    }\n",
       "</style>\n",
       "<table border=\"1\" class=\"dataframe\">\n",
       "  <thead>\n",
       "    <tr style=\"text-align: right;\">\n",
       "      <th></th>\n",
       "      <th>Area</th>\n",
       "      <th>Perimeter</th>\n",
       "      <th>Compactness</th>\n",
       "      <th>Kernel.Length</th>\n",
       "      <th>Kernel.Width</th>\n",
       "      <th>Asymmetry.Coeff</th>\n",
       "      <th>Kernel.Groove</th>\n",
       "    </tr>\n",
       "  </thead>\n",
       "  <tbody>\n",
       "    <tr>\n",
       "      <th>0</th>\n",
       "      <td>14.88</td>\n",
       "      <td>14.57</td>\n",
       "      <td>0.8811</td>\n",
       "      <td>5.554</td>\n",
       "      <td>3.333</td>\n",
       "      <td>1.018</td>\n",
       "      <td>4.956</td>\n",
       "    </tr>\n",
       "    <tr>\n",
       "      <th>1</th>\n",
       "      <td>14.29</td>\n",
       "      <td>14.09</td>\n",
       "      <td>0.9050</td>\n",
       "      <td>5.291</td>\n",
       "      <td>3.337</td>\n",
       "      <td>2.699</td>\n",
       "      <td>4.825</td>\n",
       "    </tr>\n",
       "    <tr>\n",
       "      <th>2</th>\n",
       "      <td>13.84</td>\n",
       "      <td>13.94</td>\n",
       "      <td>0.8955</td>\n",
       "      <td>5.324</td>\n",
       "      <td>3.379</td>\n",
       "      <td>2.259</td>\n",
       "      <td>4.805</td>\n",
       "    </tr>\n",
       "    <tr>\n",
       "      <th>3</th>\n",
       "      <td>16.14</td>\n",
       "      <td>14.99</td>\n",
       "      <td>0.9034</td>\n",
       "      <td>5.658</td>\n",
       "      <td>3.562</td>\n",
       "      <td>1.355</td>\n",
       "      <td>5.175</td>\n",
       "    </tr>\n",
       "    <tr>\n",
       "      <th>4</th>\n",
       "      <td>14.38</td>\n",
       "      <td>14.21</td>\n",
       "      <td>0.8951</td>\n",
       "      <td>5.386</td>\n",
       "      <td>3.312</td>\n",
       "      <td>2.462</td>\n",
       "      <td>4.956</td>\n",
       "    </tr>\n",
       "  </tbody>\n",
       "</table>\n",
       "</div>"
      ],
      "text/plain": [
       "    Area  Perimeter  Compactness  Kernel.Length  Kernel.Width  \\\n",
       "0  14.88      14.57       0.8811          5.554         3.333   \n",
       "1  14.29      14.09       0.9050          5.291         3.337   \n",
       "2  13.84      13.94       0.8955          5.324         3.379   \n",
       "3  16.14      14.99       0.9034          5.658         3.562   \n",
       "4  14.38      14.21       0.8951          5.386         3.312   \n",
       "\n",
       "   Asymmetry.Coeff  Kernel.Groove  \n",
       "0            1.018          4.956  \n",
       "1            2.699          4.825  \n",
       "2            2.259          4.805  \n",
       "3            1.355          5.175  \n",
       "4            2.462          4.956  "
      ]
     },
     "execution_count": 20,
     "metadata": {},
     "output_type": "execute_result"
    }
   ],
   "source": [
    "feature_df = wheat_df.drop(columns=['Type'],axis=1, inplace=False)\n",
    "print(feature_df.columns)\n",
    "feature_df.head()"
   ]
  },
  {
   "cell_type": "code",
   "execution_count": 21,
   "metadata": {
    "id": "vS5ESEDvrga7",
    "outputId": "d14b48b5-5b66-44d2-d48b-879a7d77a5c9"
   },
   "outputs": [
    {
     "data": {
      "text/plain": [
       "KMeans(max_iter=500, n_clusters=3, random_state=0)"
      ]
     },
     "execution_count": 21,
     "metadata": {},
     "output_type": "execute_result"
    }
   ],
   "source": [
    "#KMeans 모델 생성\n",
    "model = KMeans(n_clusters=3, init='k-means++', max_iter=500, random_state=0)\n",
    "#학습하기\n",
    "model.fit(feature_df)"
   ]
  },
  {
   "cell_type": "code",
   "execution_count": 22,
   "metadata": {
    "id": "N6pRHeZOrga8",
    "outputId": "ac806f64-6975-4108-e961-f9392f9eb71b"
   },
   "outputs": [
    {
     "name": "stdout",
     "output_type": "stream",
     "text": [
      "[0 0 0 0 0 0 0 0 0 0 0 0 0 0 0 2 0 0 2 0 0 0 0 0 0 2 0 0 0 0 0 0 0 0 0 0 1\n",
      " 0 2 0 0 0 0 0 0 0 0 0 0 0 0 0 0 0 0 0 0 0 0 2 2 2 2 0 0 0 0 0 2 1 1 1 1 1\n",
      " 1 1 1 1 1 1 1 1 1 1 1 1 1 1 1 1 1 1 1 1 1 1 1 1 1 0 1 1 1 1 1 1 1 1 1 1 1\n",
      " 1 1 1 1 1 1 1 1 1 1 0 1 0 1 1 1 1 1 1 1 0 0 0 0 1 0 0 0 2 2 2 2 2 2 2 2 2\n",
      " 2 2 2 2 2 2 2 2 2 2 2 2 2 2 2 2 2 2 2 2 2 2 2 2 2 2 2 2 2 2 0 2 2 2 2 2 2\n",
      " 2 2 2 2 2 2 2 2 2 2 2 2 2 2 2 0 2 2 2 2 2 2 2 2]\n"
     ]
    },
    {
     "data": {
      "text/html": [
       "<div>\n",
       "<style scoped>\n",
       "    .dataframe tbody tr th:only-of-type {\n",
       "        vertical-align: middle;\n",
       "    }\n",
       "\n",
       "    .dataframe tbody tr th {\n",
       "        vertical-align: top;\n",
       "    }\n",
       "\n",
       "    .dataframe thead th {\n",
       "        text-align: right;\n",
       "    }\n",
       "</style>\n",
       "<table border=\"1\" class=\"dataframe\">\n",
       "  <thead>\n",
       "    <tr style=\"text-align: right;\">\n",
       "      <th></th>\n",
       "      <th>Area</th>\n",
       "      <th>Perimeter</th>\n",
       "      <th>Compactness</th>\n",
       "      <th>Kernel.Length</th>\n",
       "      <th>Kernel.Width</th>\n",
       "      <th>Asymmetry.Coeff</th>\n",
       "      <th>Kernel.Groove</th>\n",
       "      <th>Type</th>\n",
       "      <th>cluster</th>\n",
       "    </tr>\n",
       "  </thead>\n",
       "  <tbody>\n",
       "    <tr>\n",
       "      <th>0</th>\n",
       "      <td>14.88</td>\n",
       "      <td>14.57</td>\n",
       "      <td>0.8811</td>\n",
       "      <td>5.554</td>\n",
       "      <td>3.333</td>\n",
       "      <td>1.018</td>\n",
       "      <td>4.956</td>\n",
       "      <td>1</td>\n",
       "      <td>0</td>\n",
       "    </tr>\n",
       "    <tr>\n",
       "      <th>1</th>\n",
       "      <td>14.29</td>\n",
       "      <td>14.09</td>\n",
       "      <td>0.9050</td>\n",
       "      <td>5.291</td>\n",
       "      <td>3.337</td>\n",
       "      <td>2.699</td>\n",
       "      <td>4.825</td>\n",
       "      <td>1</td>\n",
       "      <td>0</td>\n",
       "    </tr>\n",
       "    <tr>\n",
       "      <th>2</th>\n",
       "      <td>13.84</td>\n",
       "      <td>13.94</td>\n",
       "      <td>0.8955</td>\n",
       "      <td>5.324</td>\n",
       "      <td>3.379</td>\n",
       "      <td>2.259</td>\n",
       "      <td>4.805</td>\n",
       "      <td>1</td>\n",
       "      <td>0</td>\n",
       "    </tr>\n",
       "    <tr>\n",
       "      <th>3</th>\n",
       "      <td>16.14</td>\n",
       "      <td>14.99</td>\n",
       "      <td>0.9034</td>\n",
       "      <td>5.658</td>\n",
       "      <td>3.562</td>\n",
       "      <td>1.355</td>\n",
       "      <td>5.175</td>\n",
       "      <td>1</td>\n",
       "      <td>0</td>\n",
       "    </tr>\n",
       "    <tr>\n",
       "      <th>4</th>\n",
       "      <td>14.38</td>\n",
       "      <td>14.21</td>\n",
       "      <td>0.8951</td>\n",
       "      <td>5.386</td>\n",
       "      <td>3.312</td>\n",
       "      <td>2.462</td>\n",
       "      <td>4.956</td>\n",
       "      <td>1</td>\n",
       "      <td>0</td>\n",
       "    </tr>\n",
       "  </tbody>\n",
       "</table>\n",
       "</div>"
      ],
      "text/plain": [
       "    Area  Perimeter  Compactness  Kernel.Length  Kernel.Width  \\\n",
       "0  14.88      14.57       0.8811          5.554         3.333   \n",
       "1  14.29      14.09       0.9050          5.291         3.337   \n",
       "2  13.84      13.94       0.8955          5.324         3.379   \n",
       "3  16.14      14.99       0.9034          5.658         3.562   \n",
       "4  14.38      14.21       0.8951          5.386         3.312   \n",
       "\n",
       "   Asymmetry.Coeff  Kernel.Groove  Type  cluster  \n",
       "0            1.018          4.956     1        0  \n",
       "1            2.699          4.825     1        0  \n",
       "2            2.259          4.805     1        0  \n",
       "3            1.355          5.175     1        0  \n",
       "4            2.462          4.956     1        0  "
      ]
     },
     "execution_count": 22,
     "metadata": {},
     "output_type": "execute_result"
    }
   ],
   "source": [
    "print(model.labels_)\n",
    "wheat_df['cluster'] = model.labels_\n",
    "wheat_df.head()"
   ]
  },
  {
   "cell_type": "code",
   "execution_count": 23,
   "metadata": {
    "id": "9Hp4YV7Wrga8",
    "outputId": "bb342832-ac1f-4ecf-c148-02e479e8fe40"
   },
   "outputs": [
    {
     "data": {
      "text/plain": [
       "Type  cluster\n",
       "1     0          59\n",
       "      1           1\n",
       "      2           9\n",
       "2     0          10\n",
       "      1          60\n",
       "3     0           2\n",
       "      2          68\n",
       "Name: Area, dtype: int64"
      ]
     },
     "execution_count": 23,
     "metadata": {},
     "output_type": "execute_result"
    }
   ],
   "source": [
    "wheat_group = wheat_df.groupby(['Type','cluster'])['Area'].count()\n",
    "wheat_group"
   ]
  },
  {
   "cell_type": "code",
   "execution_count": 24,
   "metadata": {
    "id": "Ps9J0Xszrga9",
    "outputId": "c90d01b9-05e9-4556-9d1d-edbc50befa24"
   },
   "outputs": [
    {
     "data": {
      "text/plain": [
       "2    77\n",
       "0    71\n",
       "1    61\n",
       "Name: cluster, dtype: int64"
      ]
     },
     "execution_count": 24,
     "metadata": {},
     "output_type": "execute_result"
    }
   ],
   "source": [
    "wheat_df['cluster'].value_counts()"
   ]
  },
  {
   "cell_type": "code",
   "execution_count": 25,
   "metadata": {
    "id": "yjwI2xJ1rga9",
    "outputId": "7935e4d3-1c44-446e-96cd-8a6b91fbc3b9"
   },
   "outputs": [
    {
     "name": "stdout",
     "output_type": "stream",
     "text": [
      "<class 'numpy.ndarray'>\n",
      "2\n"
     ]
    },
    {
     "data": {
      "text/plain": [
       "array([[14.88  , 14.57  ,  0.8811, ...,  3.333 ,  1.018 ,  4.956 ],\n",
       "       [14.29  , 14.09  ,  0.905 , ...,  3.337 ,  2.699 ,  4.825 ],\n",
       "       [13.84  , 13.94  ,  0.8955, ...,  3.379 ,  2.259 ,  4.805 ],\n",
       "       ...,\n",
       "       [13.2   , 13.66  ,  0.8883, ...,  3.232 ,  8.315 ,  5.056 ],\n",
       "       [11.84  , 13.21  ,  0.8521, ...,  2.836 ,  3.598 ,  5.044 ],\n",
       "       [12.3   , 13.34  ,  0.8684, ...,  2.974 ,  5.637 ,  5.063 ]])"
      ]
     },
     "execution_count": 25,
     "metadata": {},
     "output_type": "execute_result"
    }
   ],
   "source": [
    "print(type(feature_df.values))\n",
    "pca_data = feature_df.values\n",
    "#몇차원인지를 확인하는 속성\n",
    "print(pca_data.ndim)\n",
    "pca_data"
   ]
  },
  {
   "cell_type": "code",
   "execution_count": 26,
   "metadata": {
    "id": "aCHImf6Xrga-",
    "outputId": "70e66627-b6c4-47db-c202-269e9a5cca2d"
   },
   "outputs": [
    {
     "data": {
      "text/plain": [
       "array([[ 3.17422899e-01, -2.69603847e+00],\n",
       "       [-6.57924900e-01, -1.13787002e+00],\n",
       "       [-1.05295715e+00, -1.62734346e+00],\n",
       "       [ 1.62202629e+00, -2.19095193e+00],\n",
       "       [-4.74469260e-01, -1.34296772e+00],\n",
       "       [-1.81748440e-01, -1.56982620e-01],\n",
       "       [-7.78051856e-01, -1.13612752e+00],\n",
       "       [ 2.28457489e+00, -1.36804771e+00],\n",
       "       [ 1.98093147e+00, -1.50248681e+00],\n",
       "       [ 3.72742573e-01,  8.79894199e-01],\n",
       "       [-7.08953885e-01, -2.11298931e+00],\n",
       "       [-1.21050506e+00,  8.87589861e-02],\n",
       "       [-1.16631714e+00, -7.48966649e-01],\n",
       "       [-1.19006521e+00, -9.59236659e-01],\n",
       "       [-5.04819810e-01,  3.71623509e-01],\n",
       "       [-1.37084109e+00,  1.31689377e+00],\n",
       "       [ 1.05937860e+00, -2.02289842e+00],\n",
       "       [-1.48853908e-01, -2.02895653e+00],\n",
       "       [-2.45920815e+00,  6.83018235e-02],\n",
       "       [-6.28548215e-01, -7.24621749e-01],\n",
       "       [-6.87109428e-01, -1.11822547e+00],\n",
       "       [ 1.40939142e+00, -2.81402090e+00],\n",
       "       [-2.84088638e+00, -2.67422056e+00],\n",
       "       [ 4.35430412e-01, -1.89659662e+00],\n",
       "       [ 1.81469860e+00, -2.60765959e+00],\n",
       "       [-2.01847436e+00, -6.14309708e-01],\n",
       "       [-2.19333970e+00, -1.50389252e+00],\n",
       "       [-7.41861817e-01, -1.07148687e+00],\n",
       "       [-1.50053495e+00, -3.74104673e-01],\n",
       "       [-1.51917891e+00, -3.06778543e+00],\n",
       "       [ 7.64235939e-01, -2.16494495e-01],\n",
       "       [-7.64512730e-01,  1.20033632e-01],\n",
       "       [-8.21696177e-01, -1.71337994e+00],\n",
       "       [ 4.41914073e-01, -1.53557267e+00],\n",
       "       [ 1.52457157e+00, -1.26370357e+00],\n",
       "       [ 1.65521886e+00, -6.82708193e-01],\n",
       "       [ 2.47967812e+00, -4.59594695e-01],\n",
       "       [ 1.44318970e-02, -6.03004880e-01],\n",
       "       [-1.10980328e+00,  2.82739517e+00],\n",
       "       [-1.36910138e+00, -1.30723610e+00],\n",
       "       [-1.36117104e+00, -1.64575826e+00],\n",
       "       [-1.88065005e+00, -1.52565788e+00],\n",
       "       [ 6.33299489e-01,  1.09357031e+00],\n",
       "       [ 2.87286732e-01, -5.67528340e-01],\n",
       "       [-9.58075432e-01, -2.30347196e+00],\n",
       "       [ 8.20944301e-01, -2.27280303e+00],\n",
       "       [ 1.99400342e-01, -7.47489061e-01],\n",
       "       [ 1.79578995e-02, -1.02730851e+00],\n",
       "       [ 2.56594270e-01, -1.55709722e+00],\n",
       "       [-5.02121427e-01,  1.91374000e-01],\n",
       "       [ 7.16149749e-01,  1.95899372e+00],\n",
       "       [-3.52470072e-01,  3.73085270e-01],\n",
       "       [-5.63924054e-01, -4.61805414e-01],\n",
       "       [ 2.01127732e-02, -2.22358407e+00],\n",
       "       [ 4.80701125e-01, -1.72051057e+00],\n",
       "       [-3.72808083e-01, -9.83160203e-01],\n",
       "       [ 2.85720031e-01, -2.57159932e+00],\n",
       "       [ 7.71743836e-01, -1.63866117e+00],\n",
       "       [-2.76930389e+00, -2.60548629e+00],\n",
       "       [-3.80106993e+00, -1.52172766e+00],\n",
       "       [-4.00319392e+00, -1.97567948e+00],\n",
       "       [-2.87553621e+00, -8.91979675e-01],\n",
       "       [-1.87078655e+00,  2.07600261e-01],\n",
       "       [-2.04919971e+00, -2.83069502e+00],\n",
       "       [-2.16591616e+00, -1.67890002e+00],\n",
       "       [-2.57783707e-01, -2.45170029e+00],\n",
       "       [-7.04752069e-01, -1.59695980e+00],\n",
       "       [-2.35130867e-01, -2.28786350e+00],\n",
       "       [-2.28186464e+00, -4.65613447e-01],\n",
       "       [ 3.16768129e+00,  7.95694719e-01],\n",
       "       [ 2.21338442e+00,  1.27061003e+00],\n",
       "       [ 2.62440461e+00,  1.17410499e+00],\n",
       "       [ 4.77089612e+00, -1.67002257e-01],\n",
       "       [ 2.21580775e+00,  5.93196665e-01],\n",
       "       [ 2.07576284e+00,  1.49419627e+00],\n",
       "       [ 2.84618903e+00,  4.95780079e-01],\n",
       "       [ 6.46635888e+00,  1.59070622e+00],\n",
       "       [ 4.48250001e+00,  1.96615989e+00],\n",
       "       [ 2.61777565e+00, -5.21194894e-01],\n",
       "       [ 1.68261980e+00,  2.06521245e+00],\n",
       "       [ 4.04183803e+00,  2.13183933e+00],\n",
       "       [ 5.72291550e+00,  2.20420488e+00],\n",
       "       [ 5.59046273e+00, -1.51968417e+00],\n",
       "       [ 5.32571182e+00, -6.07145487e-02],\n",
       "       [ 4.01012725e+00, -7.39002082e-01],\n",
       "       [ 4.70747902e+00, -1.46360024e+00],\n",
       "       [ 4.79389486e+00,  6.35636035e-01],\n",
       "       [ 6.70040571e+00,  2.93401730e+00],\n",
       "       [ 6.46467226e+00,  2.14244778e+00],\n",
       "       [ 6.14606210e+00, -9.53986566e-01],\n",
       "       [ 4.39831699e+00, -2.52578693e-02],\n",
       "       [ 4.46462701e+00,  1.03495342e-01],\n",
       "       [ 3.78957336e+00,  2.78155019e+00],\n",
       "       [ 4.02039632e+00,  1.79367078e+00],\n",
       "       [ 2.38385458e+00,  3.15407202e-01],\n",
       "       [ 5.04058883e+00,  4.25604496e-01],\n",
       "       [ 4.92321060e+00, -9.07272489e-01],\n",
       "       [ 3.94367128e+00, -3.24725455e-01],\n",
       "       [ 4.53596652e+00, -9.38718950e-01],\n",
       "       [ 1.66052574e+00,  7.20774947e-01],\n",
       "       [ 3.64123943e+00, -1.18921749e+00],\n",
       "       [ 4.98234531e+00,  1.23222574e+00],\n",
       "       [ 4.94476733e+00,  2.95962437e-01],\n",
       "       [ 4.63920836e+00,  2.61691895e-01],\n",
       "       [ 4.52692349e+00, -5.92570400e-01],\n",
       "       [ 4.51879046e+00, -2.80638112e-01],\n",
       "       [ 3.12622220e+00,  4.47775018e-01],\n",
       "       [ 5.83472173e+00,  3.20492163e-01],\n",
       "       [ 4.35961600e+00, -1.42647946e+00],\n",
       "       [ 4.16023391e+00, -9.59767801e-01],\n",
       "       [ 5.08607493e+00,  6.15391394e-01],\n",
       "       [ 4.89405979e+00, -9.92297192e-01],\n",
       "       [ 4.44824243e+00,  3.56327503e+00],\n",
       "       [ 6.67567825e+00,  1.83038436e+00],\n",
       "       [ 4.91023864e+00, -8.27506125e-01],\n",
       "       [ 4.37747434e+00,  1.16777312e+00],\n",
       "       [ 4.87510526e+00,  5.46678642e-03],\n",
       "       [ 4.45202393e+00,  4.97548374e-01],\n",
       "       [ 5.88781175e+00,  1.17165781e-01],\n",
       "       [ 5.68853563e+00,  2.93093207e+00],\n",
       "       [ 3.70908645e+00,  3.94443222e-01],\n",
       "       [ 1.49210712e+00,  7.80417354e-01],\n",
       "       [ 3.98632866e+00, -2.24021352e-01],\n",
       "       [ 1.15836916e+00, -2.63041445e-01],\n",
       "       [ 4.23822223e+00,  1.02269355e+00],\n",
       "       [ 4.22082295e+00,  1.24037276e+00],\n",
       "       [ 3.62566517e+00, -9.94344608e-01],\n",
       "       [ 6.17650682e+00, -1.01391424e+00],\n",
       "       [ 2.71800455e+00,  2.00129801e+00],\n",
       "       [ 3.86388646e+00, -3.82459770e-01],\n",
       "       [ 4.61806561e+00, -2.19474318e-01],\n",
       "       [ 5.95741444e-01,  8.59180755e-01],\n",
       "       [ 1.48949002e+00,  7.66869560e-01],\n",
       "       [ 6.94566467e-01,  1.38250118e+00],\n",
       "       [ 5.34151574e-01, -4.86178666e-02],\n",
       "       [ 2.89593350e+00,  2.03260517e-01],\n",
       "       [ 1.10546934e+00, -9.02556936e-01],\n",
       "       [ 1.08380858e+00, -8.30682287e-01],\n",
       "       [ 1.58375057e+00,  2.84931163e-01],\n",
       "       [-2.07659375e+00,  1.35938078e+00],\n",
       "       [-2.04411904e+00,  3.10434506e+00],\n",
       "       [-1.92688036e+00,  2.06228438e+00],\n",
       "       [-3.14371220e+00,  1.38150949e+00],\n",
       "       [-3.35419472e+00,  3.57363026e-01],\n",
       "       [-4.21821292e+00,  1.96777449e+00],\n",
       "       [-3.54993731e+00, -1.93155692e+00],\n",
       "       [-2.73912776e+00,  3.62943988e-01],\n",
       "       [-2.25748253e+00, -7.21433016e-01],\n",
       "       [-4.58876142e+00,  1.20926127e+00],\n",
       "       [-3.48740687e+00,  1.07418044e+00],\n",
       "       [-3.43570753e+00,  2.88806114e+00],\n",
       "       [-2.88043464e+00,  7.12669653e-01],\n",
       "       [-3.96197512e+00, -8.71753343e-01],\n",
       "       [-3.85488924e+00, -1.24548267e-01],\n",
       "       [-4.23453312e+00,  1.60345916e+00],\n",
       "       [-3.89335263e+00, -8.55226522e-01],\n",
       "       [-2.98250935e+00,  7.63282602e-01],\n",
       "       [-3.33415944e+00,  2.79735829e-01],\n",
       "       [-3.82709821e+00,  1.23175527e+00],\n",
       "       [-2.36480414e+00, -8.99625610e-01],\n",
       "       [-3.15442632e+00,  1.87283072e-01],\n",
       "       [-3.22780634e+00,  8.80446137e-01],\n",
       "       [-2.61131467e+00,  3.89481446e-01],\n",
       "       [-4.49394744e+00,  2.13161929e+00],\n",
       "       [-2.94109284e+00, -1.89107915e+00],\n",
       "       [-2.76246028e+00,  8.86396245e-01],\n",
       "       [-2.89610799e+00, -4.14652497e-01],\n",
       "       [-3.89926595e+00,  1.53541377e-01],\n",
       "       [-3.95175414e+00, -6.77871038e-01],\n",
       "       [-4.51654792e+00,  2.49372710e+00],\n",
       "       [-4.03670620e+00,  2.51119746e+00],\n",
       "       [-4.04350105e+00,  9.60095341e-02],\n",
       "       [-4.02997571e+00,  1.38960161e+00],\n",
       "       [-4.51289425e+00,  9.35956889e-01],\n",
       "       [-4.67536210e+00,  4.87307384e-01],\n",
       "       [-4.14837916e+00,  1.12293488e+00],\n",
       "       [-4.66794973e+00,  4.16660020e-01],\n",
       "       [-4.01378555e+00,  1.67511335e+00],\n",
       "       [-2.60599854e+00, -2.37854361e+00],\n",
       "       [-4.03090483e+00,  7.35867137e-01],\n",
       "       [-2.83706401e+00,  9.28147337e-01],\n",
       "       [-3.08918544e+00,  7.70430504e-01],\n",
       "       [-3.75259896e+00,  1.04210605e+00],\n",
       "       [-2.41071255e+00,  2.19891129e+00],\n",
       "       [-3.57137049e+00, -7.68529401e-02],\n",
       "       [-3.36916721e+00,  7.98854639e-01],\n",
       "       [-4.42801368e+00, -8.21140083e-02],\n",
       "       [-4.54572042e+00,  3.26135840e+00],\n",
       "       [-4.99900952e+00,  6.32490384e-01],\n",
       "       [-4.55450526e+00,  1.13215507e+00],\n",
       "       [-4.04068417e+00, -2.30590371e-01],\n",
       "       [-3.35870459e+00, -5.33083353e-01],\n",
       "       [-4.55746293e+00,  5.91117043e-01],\n",
       "       [-3.11536623e+00,  2.80145044e-02],\n",
       "       [-2.52585737e+00,  8.31654404e-01],\n",
       "       [-2.58263225e+00,  1.44307047e+00],\n",
       "       [-1.82980890e+00,  7.24868280e-01],\n",
       "       [-2.35777794e+00, -6.92396836e-01],\n",
       "       [-2.35564900e+00, -1.21048912e+00],\n",
       "       [-2.97608999e+00,  1.39284600e+00],\n",
       "       [-2.41647444e+00, -1.75509982e+00],\n",
       "       [-4.21616536e+00, -1.98906186e-01],\n",
       "       [-3.08324378e+00,  4.37126844e+00],\n",
       "       [-2.78652659e+00, -1.47263999e-01],\n",
       "       [-3.03894549e+00, -4.78346376e-01],\n",
       "       [-4.10582815e+00,  1.04632463e-01],\n",
       "       [-2.49462239e+00,  4.30254519e+00],\n",
       "       [-3.32917609e+00, -5.30390514e-01],\n",
       "       [-3.10357146e+00,  1.54458861e+00]])"
      ]
     },
     "execution_count": 26,
     "metadata": {},
     "output_type": "execute_result"
    }
   ],
   "source": [
    "#모델생성\n",
    "pca_model = PCA(n_components=2, random_state=0)\n",
    "#학습하기 2개의 컴포넌트로 차원축소\n",
    "pca_transformed = pca_model.fit_transform(pca_data)\n",
    "pca_transformed"
   ]
  },
  {
   "cell_type": "code",
   "execution_count": 27,
   "metadata": {
    "id": "MT2OPJ2vrga-",
    "outputId": "ecd59563-d3b9-4cb0-ea56-88c38d9f923a"
   },
   "outputs": [
    {
     "data": {
      "text/html": [
       "<div>\n",
       "<style scoped>\n",
       "    .dataframe tbody tr th:only-of-type {\n",
       "        vertical-align: middle;\n",
       "    }\n",
       "\n",
       "    .dataframe tbody tr th {\n",
       "        vertical-align: top;\n",
       "    }\n",
       "\n",
       "    .dataframe thead th {\n",
       "        text-align: right;\n",
       "    }\n",
       "</style>\n",
       "<table border=\"1\" class=\"dataframe\">\n",
       "  <thead>\n",
       "    <tr style=\"text-align: right;\">\n",
       "      <th></th>\n",
       "      <th>Area</th>\n",
       "      <th>Perimeter</th>\n",
       "      <th>Compactness</th>\n",
       "      <th>Kernel.Length</th>\n",
       "      <th>Kernel.Width</th>\n",
       "      <th>Asymmetry.Coeff</th>\n",
       "      <th>Kernel.Groove</th>\n",
       "      <th>Type</th>\n",
       "      <th>cluster</th>\n",
       "      <th>pca_x</th>\n",
       "      <th>pca_y</th>\n",
       "    </tr>\n",
       "  </thead>\n",
       "  <tbody>\n",
       "    <tr>\n",
       "      <th>0</th>\n",
       "      <td>14.88</td>\n",
       "      <td>14.57</td>\n",
       "      <td>0.8811</td>\n",
       "      <td>5.554</td>\n",
       "      <td>3.333</td>\n",
       "      <td>1.018</td>\n",
       "      <td>4.956</td>\n",
       "      <td>1</td>\n",
       "      <td>0</td>\n",
       "      <td>0.317423</td>\n",
       "      <td>-2.696038</td>\n",
       "    </tr>\n",
       "    <tr>\n",
       "      <th>1</th>\n",
       "      <td>14.29</td>\n",
       "      <td>14.09</td>\n",
       "      <td>0.9050</td>\n",
       "      <td>5.291</td>\n",
       "      <td>3.337</td>\n",
       "      <td>2.699</td>\n",
       "      <td>4.825</td>\n",
       "      <td>1</td>\n",
       "      <td>0</td>\n",
       "      <td>-0.657925</td>\n",
       "      <td>-1.137870</td>\n",
       "    </tr>\n",
       "    <tr>\n",
       "      <th>2</th>\n",
       "      <td>13.84</td>\n",
       "      <td>13.94</td>\n",
       "      <td>0.8955</td>\n",
       "      <td>5.324</td>\n",
       "      <td>3.379</td>\n",
       "      <td>2.259</td>\n",
       "      <td>4.805</td>\n",
       "      <td>1</td>\n",
       "      <td>0</td>\n",
       "      <td>-1.052957</td>\n",
       "      <td>-1.627343</td>\n",
       "    </tr>\n",
       "    <tr>\n",
       "      <th>3</th>\n",
       "      <td>16.14</td>\n",
       "      <td>14.99</td>\n",
       "      <td>0.9034</td>\n",
       "      <td>5.658</td>\n",
       "      <td>3.562</td>\n",
       "      <td>1.355</td>\n",
       "      <td>5.175</td>\n",
       "      <td>1</td>\n",
       "      <td>0</td>\n",
       "      <td>1.622026</td>\n",
       "      <td>-2.190952</td>\n",
       "    </tr>\n",
       "    <tr>\n",
       "      <th>4</th>\n",
       "      <td>14.38</td>\n",
       "      <td>14.21</td>\n",
       "      <td>0.8951</td>\n",
       "      <td>5.386</td>\n",
       "      <td>3.312</td>\n",
       "      <td>2.462</td>\n",
       "      <td>4.956</td>\n",
       "      <td>1</td>\n",
       "      <td>0</td>\n",
       "      <td>-0.474469</td>\n",
       "      <td>-1.342968</td>\n",
       "    </tr>\n",
       "  </tbody>\n",
       "</table>\n",
       "</div>"
      ],
      "text/plain": [
       "    Area  Perimeter  Compactness  Kernel.Length  Kernel.Width  \\\n",
       "0  14.88      14.57       0.8811          5.554         3.333   \n",
       "1  14.29      14.09       0.9050          5.291         3.337   \n",
       "2  13.84      13.94       0.8955          5.324         3.379   \n",
       "3  16.14      14.99       0.9034          5.658         3.562   \n",
       "4  14.38      14.21       0.8951          5.386         3.312   \n",
       "\n",
       "   Asymmetry.Coeff  Kernel.Groove  Type  cluster     pca_x     pca_y  \n",
       "0            1.018          4.956     1        0  0.317423 -2.696038  \n",
       "1            2.699          4.825     1        0 -0.657925 -1.137870  \n",
       "2            2.259          4.805     1        0 -1.052957 -1.627343  \n",
       "3            1.355          5.175     1        0  1.622026 -2.190952  \n",
       "4            2.462          4.956     1        0 -0.474469 -1.342968  "
      ]
     },
     "execution_count": 27,
     "metadata": {},
     "output_type": "execute_result"
    }
   ],
   "source": [
    "wheat_df['pca_x'] = pca_transformed[:,0]\n",
    "wheat_df['pca_y'] = pca_transformed[:,1]\n",
    "wheat_df.head()"
   ]
  },
  {
   "cell_type": "code",
   "execution_count": 28,
   "metadata": {
    "id": "FKH0PyXbrga-",
    "outputId": "3c8a5d30-91a9-457b-a1b5-cba25041eb59"
   },
   "outputs": [
    {
     "data": {
      "text/plain": [
       "Text(0.5, 1.0, 'Wheat Data 3 Clusters Visualization by 2 PCA Component')"
      ]
     },
     "execution_count": 28,
     "metadata": {},
     "output_type": "execute_result"
    },
    {
     "data": {
      "image/png": "[encoded data removed]",
      "text/plain": [
       "<Figure size 432x288 with 1 Axes>"
      ]
     },
     "metadata": {
      "needs_background": "light"
     },
     "output_type": "display_data"
    }
   ],
   "source": [
    "marker0_index = wheat_df[wheat_df['cluster'] == 0].index\n",
    "marker1_index = wheat_df[wheat_df['cluster'] == 1].index\n",
    "marker2_index = wheat_df[wheat_df['cluster'] == 2].index\n",
    "\n",
    "plt.scatter(x=wheat_df.loc[marker0_index,'pca_x'],\\\n",
    "            y=wheat_df.loc[marker0_index,'pca_y'], marker='o')\n",
    "plt.scatter(x=wheat_df.loc[marker1_index,'pca_x'],\\\n",
    "            y=wheat_df.loc[marker1_index,'pca_y'], marker='s')\n",
    "plt.scatter(x=wheat_df.loc[marker2_index,'pca_x'],\\\n",
    "            y=wheat_df.loc[marker2_index,'pca_y'], marker='^')\n",
    "plt.xlabel('PCA1')\n",
    "plt.ylabel('PCA2')\n",
    "plt.title('Wheat Data 3 Clusters Visualization by 2 PCA Component')"
   ]
  }
 ],
 "metadata": {
  "colab": {
   "collapsed_sections": [],
   "name": "9.Iris_dataset_비지도학습_군집화_차원축소.ipynb",
   "provenance": []
  },
  "kernelspec": {
   "display_name": "Python 3",
   "language": "python",
   "name": "python3"
  },
  "language_info": {
   "codemirror_mode": {
    "name": "ipython",
    "version": 3
   },
   "file_extension": ".py",
   "mimetype": "text/x-python",
   "name": "python",
   "nbconvert_exporter": "python",
   "pygments_lexer": "ipython3",
   "version": "3.8.5"
  }
 },
 "nbformat": 4,
 "nbformat_minor": 1
}
